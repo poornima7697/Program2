{
 "cells": [
  {
   "cell_type": "code",
   "execution_count": 4,
   "id": "c7686bb3",
   "metadata": {},
   "outputs": [
    {
     "name": "stdout",
     "output_type": "stream",
     "text": [
      "Enter a string:madam\n",
      "The string is a palindrome\n"
     ]
    }
   ],
   "source": [
    "#1.\tWAP program to check whether given string is palindrome\n",
    "string=input((\"Enter a string:\"))\n",
    "if(string==string[::-1]):\n",
    "      print(\"The string is a palindrome\")\n",
    "else:\n",
    "      print(\"Not a palindrome\")"
   ]
  },
  {
   "cell_type": "code",
   "execution_count": 6,
   "id": "b9cb43f8",
   "metadata": {},
   "outputs": [
    {
     "name": "stdout",
     "output_type": "stream",
     "text": [
      "Enter a string:hello\n",
      "Number of vowels are:\n",
      "2\n"
     ]
    }
   ],
   "source": [
    "#2.\tWAP program to count number of vowels in given string\n",
    "string=input((\"Enter a string:\"))\n",
    "vowels=0\n",
    "for i in string:\n",
    "      if(i=='a' or i=='e' or i=='i' or i=='o' or i=='u' or i=='A' or i=='E' or i=='I' or i=='O' or i=='U'):\n",
    "            vowels=vowels+1\n",
    "print(\"Number of vowels are:\")\n",
    "print(vowels)"
   ]
  },
  {
   "cell_type": "code",
   "execution_count": 15,
   "id": "a036a0df",
   "metadata": {},
   "outputs": [
    {
     "name": "stdout",
     "output_type": "stream",
     "text": [
      "string is empty  \n"
     ]
    }
   ],
   "source": [
    "#3.\tWAP to remove all occurences of given char from String\n",
    "a_string = \"hello\"\n",
    "\n",
    "empty_str = a_string.replace(\"hello\",\" \")\n",
    "\n",
    "print(\"string is empty\",empty_str )"
   ]
  },
  {
   "cell_type": "code",
   "execution_count": 17,
   "id": "daa62783",
   "metadata": {},
   "outputs": [
    {
     "name": "stdout",
     "output_type": "stream",
     "text": [
      "Enter a string:MARY\n",
      "Enter a string:ARMY\n",
      "The strings are anagrams.\n"
     ]
    }
   ],
   "source": [
    "#4.\tWAP to accept 2 string and check whether they are anagram or not eg) MARY ARMY\n",
    "s1=input((\"Enter a string:\"))\n",
    "s2=input((\"Enter a string:\"))\n",
    "if(sorted(s1)==sorted(s2)):\n",
    "      print(\"The strings are anagrams.\")\n",
    "else:\n",
    "      print(\"The strings aren't anagrams.\")"
   ]
  },
  {
   "cell_type": "code",
   "execution_count": 28,
   "id": "6c7ed972",
   "metadata": {},
   "outputs": [
    {
     "name": "stdout",
     "output_type": "stream",
     "text": [
      "The reversed string word by word is: nohtyP si nuf\n"
     ]
    }
   ],
   "source": [
    "#5.\tWAP to reverse each word in a sentence Python is fun -->nohtyP si nuf\n",
    "\n",
    "string = \" Python is fun\"\n",
    "word = string.split()\n",
    "reverse_str = []\n",
    "for i in word:\n",
    "    reverse_str.append(i[::-1])\n",
    "res = \" \".join(reverse_str)\n",
    "print(\"The reversed string word by word is:\",res)"
   ]
  },
  {
   "cell_type": "code",
   "execution_count": 6,
   "id": "94e40525",
   "metadata": {},
   "outputs": [
    {
     "name": "stdout",
     "output_type": "stream",
     "text": [
      "Count of all characters in Hello:\n",
      " {'H': 1, 'e': 1, 'l': 2, 'o': 1}\n"
     ]
    }
   ],
   "source": [
    "#6.\tWAP program to find frequency of each character in given String\n",
    "t_str=\"Hello\"\n",
    "all_freq = {}  \n",
    "for i in t_str:\n",
    "    if i in all_freq:\n",
    "        all_freq[i] += 1\n",
    "    else:\n",
    "        all_freq[i] = 1\n",
    "print (\"Count of all characters in Hello:\\n \"+str(all_freq))\n"
   ]
  },
  {
   "cell_type": "code",
   "execution_count": 2,
   "id": "590608ea",
   "metadata": {},
   "outputs": [
    {
     "name": "stdout",
     "output_type": "stream",
     "text": [
      "Python World !!\n"
     ]
    }
   ],
   "source": [
    "#7.\tWAP to extract first alphabet from given sentence to form a new word\n",
    "s_str = \"Hello World !!\"\n",
    "s_str[ 0 : 5]\n",
    "r_str = s_str.replace(\"Hello\",\"Python\")\n",
    "print(r_str)"
   ]
  },
  {
   "cell_type": "code",
   "execution_count": 48,
   "id": "66ac037b",
   "metadata": {},
   "outputs": [
    {
     "name": "stdout",
     "output_type": "stream",
     "text": [
      "    *   \n",
      "   *  *   \n",
      "  *  *  *   \n"
     ]
    }
   ],
   "source": [
    "#8.\tStar Pattern Programs\n",
    "size =3\n",
    "m=(2*size)-2\n",
    "for i in range(0, size):\n",
    "    for j in range(0, m):\n",
    "        print(end=\" \")\n",
    "    m=m-1\n",
    "    for j in range(0, i + 1):\n",
    "        print(\"* \", end=' ')\n",
    "    print(\" \")\n",
    "\n"
   ]
  },
  {
   "cell_type": "code",
   "execution_count": 36,
   "id": "9f5e1ea4",
   "metadata": {},
   "outputs": [
    {
     "name": "stdout",
     "output_type": "stream",
     "text": [
      "ABCD\n",
      "ABC\n",
      "AB\n",
      "A\n",
      "\n"
     ]
    }
   ],
   "source": [
    "#9.\tABCDE\n",
    "#ABCD\n",
    "#ABC\n",
    "#AB\n",
    "#A\n",
    "n=5\n",
    "for i in range(n):\n",
    "    for j in range(n - i - 1):\n",
    "        print(chr(65 + j), end=\"\")\n",
    "    print()\n"
   ]
  },
  {
   "cell_type": "code",
   "execution_count": 37,
   "id": "455a344f",
   "metadata": {},
   "outputs": [
    {
     "name": "stdout",
     "output_type": "stream",
     "text": [
      "bcdef\n"
     ]
    }
   ],
   "source": [
    "#10.\tWAP to replace every character by its next subsequent character.\n",
    "my_str='abcde' \n",
    "rep_str='' \n",
    "for letter in my_str: \n",
    "    code=ord(letter) \n",
    "    nxt_letter=chr(code+1) \n",
    "    rep_str=rep_str+ nxt_letter \n",
    " \n",
    "print(rep_str)"
   ]
  },
  {
   "cell_type": "code",
   "execution_count": 7,
   "id": "dfc3ed01",
   "metadata": {},
   "outputs": [
    {
     "name": "stdout",
     "output_type": "stream",
     "text": [
      "Count of all characters in Hello:\n",
      " {'H': 1, 'e': 1, 'l': 2, 'o': 1}\n"
     ]
    }
   ],
   "source": [
    "#11.Write a Python program to count the number of characters (character frequency) in a string.\n",
    "t_str=\"Hello\"\n",
    "all_freq = {}  \n",
    "for i in t_str:\n",
    "    if i in all_freq:\n",
    "        all_freq[i] += 1\n",
    "    else:\n",
    "        all_freq[i] = 1\n",
    "print (\"Count of all characters in Hello:\\n \"+str(all_freq))\n",
    "\n"
   ]
  },
  {
   "cell_type": "code",
   "execution_count": 8,
   "id": "0aeb6d0d",
   "metadata": {},
   "outputs": [
    {
     "name": "stdout",
     "output_type": "stream",
     "text": [
      "Please Enter your Own String : hello\n",
      "Original String :   hello\n",
      "Final String :      hlo\n"
     ]
    }
   ],
   "source": [
    "#12.\tWrite a Python program to remove the characters which have odd index values of a given string. \n",
    "str1 = input(\"Please Enter your Own String : \")\n",
    "\n",
    "str2 = ''\n",
    "\n",
    "for i in range(len(str1)):\n",
    "    if(i % 2 == 0):\n",
    "        str2 = str2 + str1[i]\n",
    "        \n",
    "print(\"Original String :  \", str1)\n",
    "print(\"Final String :     \", str2)"
   ]
  },
  {
   "cell_type": "code",
   "execution_count": 40,
   "id": "3db0241f",
   "metadata": {},
   "outputs": [
    {
     "name": "stdout",
     "output_type": "stream",
     "text": [
      "Enter the sentence:hii hello hii\n",
      "Enter word:hii\n",
      "Count of the word is:\n",
      "2\n"
     ]
    }
   ],
   "source": [
    "#13.\t Write a Python program to count the occurrences of each word in a given sentence\n",
    "string=input(\"Enter the sentence:\")\n",
    "word=input(\"Enter word:\")\n",
    "a=[]\n",
    "count=0\n",
    "a=string.split(\" \")\n",
    "for i in range(0,len(a)):\n",
    "      if(word==a[i]):\n",
    "            count=count+1\n",
    "print(\"Count of the word is:\")\n",
    "print(count)"
   ]
  },
  {
   "cell_type": "code",
   "execution_count": 42,
   "id": "e4702a1d",
   "metadata": {},
   "outputs": [
    {
     "name": "stdout",
     "output_type": "stream",
     "text": [
      "Please Enter your Own String : Python Word\n",
      "\n",
      "Original String                      =   Python Word\n",
      "The Given String After Toggling Case =   pYTHON wORD\n"
     ]
    }
   ],
   "source": [
    "#14.\tWrite a Python program to swap cases or toggle cases of a given string. \n",
    "string = input(\"Please Enter your Own String : \")\n",
    "string1 = string.swapcase()\n",
    " print(\"\\nOriginal String = \", string)\n",
    "print(\"The Given String After Toggling Case =  \",string1)"
   ]
  },
  {
   "cell_type": "code",
   "execution_count": null,
   "id": "c7be5ea5",
   "metadata": {},
   "outputs": [],
   "source": []
  }
 ],
 "metadata": {
  "kernelspec": {
   "display_name": "Python 3 (ipykernel)",
   "language": "python",
   "name": "python3"
  },
  "language_info": {
   "codemirror_mode": {
    "name": "ipython",
    "version": 3
   },
   "file_extension": ".py",
   "mimetype": "text/x-python",
   "name": "python",
   "nbconvert_exporter": "python",
   "pygments_lexer": "ipython3",
   "version": "3.8.10"
  }
 },
 "nbformat": 4,
 "nbformat_minor": 5
}
